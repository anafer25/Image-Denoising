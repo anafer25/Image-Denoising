{
  "cells": [
    {
      "cell_type": "markdown",
      "metadata": {
        "id": "view-in-github",
        "colab_type": "text"
      },
      "source": [
        "<a href=\"https://colab.research.google.com/github/anafer25/Image-Denoising/blob/main/MCMC_imageDenoise.ipynb\" target=\"_parent\"><img src=\"https://colab.research.google.com/assets/colab-badge.svg\" alt=\"Open In Colab\"/></a>"
      ]
    },
    {
      "cell_type": "markdown",
      "metadata": {
        "id": "ReXJ-gYYnhvh"
      },
      "source": [
        "***Image Denoising and The Ising Model***"
      ]
    },
    {
      "cell_type": "code",
      "execution_count": null,
      "metadata": {
        "id": "CWT6-1mY_OMN",
        "colab": {
          "base_uri": "https://localhost:8080/",
          "height": 244
        },
        "outputId": "2879f584-6047-4bae-cf78-1e5b4f7cfe87"
      },
      "outputs": [
        {
          "output_type": "display_data",
          "data": {
            "text/plain": [
              "<Figure size 800x300 with 3 Axes>"
            ],
            "image/png": "[encoded data removed]"
          },
          "metadata": {}
        }
      ],
      "source": [
        "import numpy as np\n",
        "import matplotlib.pyplot as plt\n",
        "\n",
        "# creating the original binary image, where 0 = black and 1 = white\n",
        "size = 32\n",
        "image = np.zeros( ( size, size ), dtype = np.int8 )\n",
        "image[10:22, 10:22] = 1 # central white square\n",
        "\n",
        "# add noise by flipping pixels randomly\n",
        "noiseLevel = 0.1 # 10% of the pixels are flipped randomly\n",
        "noisyImage = np.copy( image )\n",
        "flip = np.random.rand( size, size ) < noiseLevel\n",
        "noisyImage[flip] = 1 - noisyImage[flip]\n",
        "\n",
        "# parameters\n",
        "beta = 1.2  # neighbor influence\n",
        "pi = 0.1    # assumed noise probability\n",
        "gamma = 0.5 * np.log( ( 1 - pi ) / pi ) # trust in observed data\n",
        "T = 10000   # number of MCMC iterations\n",
        "\n",
        "# pad the image to avoid edge issues\n",
        "imgDenoised = np.copy( noisyImage )\n",
        "\n",
        "# randomly select a pixel\n",
        "for t in range( T ):\n",
        "    i, j = np.random.randint( 1, size - 1 ), np.random.randint( 1, size - 1 )\n",
        "\n",
        "    # neighbor influence sum\n",
        "    neighborSum = ( imgDenoised[ i + 1, j ] + imgDenoised[ i - 1 , j ] +\n",
        "                    imgDenoised[ i, j + 1 ] + imgDenoised[ i, j - 1 ] )\n",
        "\n",
        "    # Ising model: convert pixel values to spins {0,1} -> {-1,+1}\n",
        "    s = 2 * imgDenoised[ i, j ] - 1  # 0 -> -1 and 1 -> +1\n",
        "    obs = 2 * noisyImage[ i, j ] - 1 # observed pixel\n",
        "\n",
        "    # Ising energy difference function\n",
        "    deltaE = 2 * s * ( beta * ( neighborSum - 2 ) + gamma * obs )\n",
        "\n",
        "    # accept / reject flip\n",
        "    if deltaE < 0 or np.random.rand( ) < np.exp( - deltaE ):\n",
        "        imgDenoised[ i, j ] = 1 - imgDenoised[ i, j ]\n",
        "\n",
        "# plot\n",
        "plt.figure( figsize=( 8, 3 ) )\n",
        "plt.subplot( 1, 3, 1 )\n",
        "plt.imshow( image, cmap='gray' )\n",
        "plt.title( 'Original' )\n",
        "\n",
        "plt.subplot( 1, 3, 2 )\n",
        "plt.imshow( noisyImage, cmap='gray' )\n",
        "plt.title( 'Noisy' )\n",
        "\n",
        "plt.subplot( 1, 3, 3 )\n",
        "plt.imshow( imgDenoised, cmap='gray' )\n",
        "plt.title( 'Denoised' )\n",
        "\n",
        "plt.tight_layout( )\n",
        "plt.show( )"
      ]
    },
    {
      "cell_type": "code",
      "source": [],
      "metadata": {
        "id": "zFVITerEHrAf"
      },
      "execution_count": null,
      "outputs": []
    },
    {
      "cell_type": "markdown",
      "source": [
        "1. Bayesian image denoising:\n",
        "      - the idea is to model the prior on image smoothness (neighboring pixels should agree)\n",
        "      - the likelihood comes from how much a pixel agrees with the noisy image\n",
        "\n",
        "2. Ising model for binary images:\n",
        "      - each pixel is like a magnetic spin\n",
        "      - neighboring spins tend to align\n",
        "\n",
        "3. Metropolis - Hastings Algorithm:\n",
        "      - a standard MCMC technique to sample from a probability distribution\n",
        "      - accepts or rejects changes based on energy difference"
      ],
      "metadata": {
        "id": "2Z8YAolNKZbE"
      }
    },
    {
      "cell_type": "code",
      "source": [],
      "metadata": {
        "id": "D7Qvg7IcLSmj"
      },
      "execution_count": null,
      "outputs": []
    }
  ],
  "metadata": {
    "colab": {
      "provenance": [],
      "authorship_tag": "ABX9TyMk3OygsM81OIYm+1JQG5TV",
      "include_colab_link": true
    },
    "kernelspec": {
      "display_name": "Python 3",
      "name": "python3"
    },
    "language_info": {
      "name": "python"
    }
  },
  "nbformat": 4,
  "nbformat_minor": 0
}